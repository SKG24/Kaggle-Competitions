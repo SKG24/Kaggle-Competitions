{
 "cells": [
  {
   "cell_type": "code",
   "execution_count": 3,
   "id": "e5e73e5c-1b75-4728-972f-68378c9539b0",
   "metadata": {},
   "outputs": [
    {
     "name": "stdout",
     "output_type": "stream",
     "text": [
      "Random Forest RMSE: 0.1448\n",
      "Gradient Boosting RMSE: 0.1412\n",
      "Submission file created: submission.csv\n"
     ]
    }
   ],
   "source": [
    "import pandas as pd\n",
    "import numpy as np\n",
    "from sklearn.model_selection import train_test_split, GridSearchCV\n",
    "from sklearn.ensemble import RandomForestRegressor, GradientBoostingRegressor\n",
    "from sklearn.metrics import mean_squared_error\n",
    "from sklearn.preprocessing import LabelEncoder\n",
    "\n",
    "# Load the data\n",
    "df_train = pd.read_csv('train.csv')\n",
    "df_test = pd.read_csv('test.csv')\n",
    "\n",
    "# Preprocessing\n",
    "# Fill missing values\n",
    "for col in df_train.columns:\n",
    "    if col in df_test.columns:  # Ensure the column exists in both datasets\n",
    "        if df_train[col].dtype == \"object\":\n",
    "            df_train[col] = df_train[col].fillna(\"None\")\n",
    "            df_test[col] = df_test[col].fillna(\"None\")\n",
    "        else:\n",
    "            df_train[col] = df_train[col].fillna(0)\n",
    "            df_test[col] = df_test[col].fillna(0)\n",
    "\n",
    "\n",
    "# Encode categorical variables\n",
    "label_encoders = {}\n",
    "for col in df_train.select_dtypes(include=\"object\").columns:\n",
    "    le = LabelEncoder()\n",
    "    combined_data = pd.concat([df_train[col], df_test[col]], axis=0).fillna(\"None\")\n",
    "    le.fit(combined_data)  # Fit on combined data to include all categories\n",
    "    df_train[col] = le.transform(df_train[col].fillna(\"None\"))\n",
    "    df_test[col] = le.transform(df_test[col].fillna(\"None\"))\n",
    "    label_encoders[col] = le\n",
    "\n",
    "if 'SalePrice' not in df_train.columns:\n",
    "    raise ValueError(\"The 'SalePrice' column is missing from the training dataset.\")\n",
    "\n",
    "# Feature and target separation\n",
    "X = df_train.drop(columns=[\"Id\", \"SalePrice\"])\n",
    "y = np.log1p(df_train[\"SalePrice\"])\n",
    "X_test = df_test.drop(columns=\"Id\")\n",
    "\n",
    "# Split the training set into train and validation sets\n",
    "X_train, X_val, y_train, y_val = train_test_split(X, y, test_size=0.2, random_state=42)\n",
    "\n",
    "# Model training with Random Forest\n",
    "rf = RandomForestRegressor(random_state=42)\n",
    "rf.fit(X_train, y_train)\n",
    "\n",
    "# Predictions and evaluation\n",
    "val_preds_rf = rf.predict(X_val)\n",
    "rmse_rf = np.sqrt(mean_squared_error(y_val, val_preds_rf))\n",
    "print(f\"Random Forest RMSE: {rmse_rf:.4f}\")\n",
    "\n",
    "# Model training with Gradient Boosting\n",
    "gb = GradientBoostingRegressor(random_state=42)\n",
    "gb.fit(X_train, y_train)\n",
    "\n",
    "val_preds_gb = gb.predict(X_val)\n",
    "rmse_gb = np.sqrt(mean_squared_error(y_val, val_preds_gb))\n",
    "print(f\"Gradient Boosting RMSE: {rmse_gb:.4f}\")\n",
    "\n",
    "# Final model prediction\n",
    "final_preds = gb.predict(X_test)\n",
    "final_preds_exp = np.expm1(final_preds)\n",
    "\n",
    "# Create submission file\n",
    "submission = pd.DataFrame({\"Id\": df_test[\"Id\"], \"SalePrice\": final_preds_exp})\n",
    "submission.to_csv(\"submission.csv\", index=False)\n",
    "\n",
    "print(\"Submission file created: submission.csv\")\n"
   ]
  },
  {
   "cell_type": "code",
   "execution_count": null,
   "id": "e9e461ae-9f0b-43c7-908b-87841bd0676f",
   "metadata": {},
   "outputs": [],
   "source": []
  }
 ],
 "metadata": {
  "kernelspec": {
   "display_name": "Python 3 (ipykernel)",
   "language": "python",
   "name": "python3"
  },
  "language_info": {
   "codemirror_mode": {
    "name": "ipython",
    "version": 3
   },
   "file_extension": ".py",
   "mimetype": "text/x-python",
   "name": "python",
   "nbconvert_exporter": "python",
   "pygments_lexer": "ipython3",
   "version": "3.12.4"
  }
 },
 "nbformat": 4,
 "nbformat_minor": 5
}
